{
  "cells": [
    {
      "cell_type": "code",
      "execution_count": null,
      "id": "66a50f3f",
      "metadata": {
        "id": "66a50f3f"
      },
      "outputs": [],
      "source": [
        "import pandas as pd\n",
        "import numpy as np\n",
        "import re\n",
        "from selenium import webdriver\n",
        "import warnings\n",
        "warnings.filterwarnings('ignore')"
      ]
    },
    {
      "cell_type": "code",
      "execution_count": null,
      "id": "5e911146",
      "metadata": {
        "id": "5e911146"
      },
      "outputs": [],
      "source": [
        "driver=webdriver.Firefox(executable_path='/home/futures/Downloads/geckodriver')\n",
        "driver.implicitly_wait(5)"
      ]
    },
    {
      "cell_type": "code",
      "execution_count": null,
      "id": "c99e99e2",
      "metadata": {
        "id": "c99e99e2"
      },
      "outputs": [],
      "source": [
        "driver.get('https://www.amazon.in/')"
      ]
    },
    {
      "cell_type": "code",
      "execution_count": null,
      "id": "2202b3ab",
      "metadata": {
        "id": "2202b3ab"
      },
      "outputs": [],
      "source": [
        "driver.find_element_by_xpath('//*[@id=\"twotabsearchtextbox\"]').click()"
      ]
    },
    {
      "cell_type": "code",
      "execution_count": null,
      "id": "ff430a8a",
      "metadata": {
        "id": "ff430a8a"
      },
      "outputs": [],
      "source": [
        "driver.find_element_by_xpath('//*[@id=\"twotabsearchtextbox\"]').send_keys(\"Men's Sports Shoes\")\n",
        "driver.find_element_by_xpath('//*[@id=\"nav-search-submit-button\"]').click()\n",
        "d=driver.find_elements_by_xpath('//*[@id=\"search\"]/div[1]/div[1]/div/span[3]/div[2]/div[4]/div/div/div/div/div/div/div[2]/div')"
      ]
    },
    {
      "cell_type": "code",
      "execution_count": null,
      "id": "9bac5a08",
      "metadata": {
        "id": "9bac5a08",
        "outputId": "8d2ed0a4-43a6-493d-acdf-25f3f40a68ca"
      },
      "outputs": [
        {
          "name": "stdout",
          "output_type": "stream",
          "text": [
            "Sponsored\n",
            "Bacca Bucci\n",
            "Men's Running Shoes\n",
            "581\n",
            "Deal of the Day\n",
            "₹699\n",
            "₹2,999 (77% off)\n",
            "FREE Delivery by Amazon\n",
            "**************************************************\n"
          ]
        }
      ],
      "source": [
        "for i in d:\n",
        "    print(i.text)\n",
        "print(\"*\"*50)"
      ]
    },
    {
      "cell_type": "code",
      "execution_count": null,
      "id": "8d557c5a",
      "metadata": {
        "id": "8d557c5a"
      },
      "outputs": [],
      "source": []
    }
  ],
  "metadata": {
    "kernelspec": {
      "display_name": "Python 3 (ipykernel)",
      "language": "python",
      "name": "python3"
    },
    "language_info": {
      "codemirror_mode": {
        "name": "ipython",
        "version": 3
      },
      "file_extension": ".py",
      "mimetype": "text/x-python",
      "name": "python",
      "nbconvert_exporter": "python",
      "pygments_lexer": "ipython3",
      "version": "3.9.7"
    },
    "colab": {
      "provenance": []
    }
  },
  "nbformat": 4,
  "nbformat_minor": 5
}